{
 "cells": [
  {
   "cell_type": "code",
   "execution_count": 1,
   "metadata": {},
   "outputs": [
    {
     "name": "stdout",
     "output_type": "stream",
     "text": [
      "DT -> the\n",
      "JJ -> furry\n",
      "NN -> lover\n",
      "NP -> DT | JJ | NN\n",
      "ROOT -> NP\n"
     ]
    }
   ],
   "source": [
    "from nltk.parse.corenlp import CoreNLPParser\n",
    "\n",
    "parser = CoreNLPParser(url=\"http://localhost:9000\")\n",
    "\n",
    "line = \"the furry lover\"\n",
    "\n",
    "CorenlpGrammarTree = next(parser.raw_parse(line))\n",
    "\n",
    "import nltk\n",
    "\n",
    "def tree_to_cfg(tree):\n",
    "    cfg = {}\n",
    "\n",
    "    def traverse(node):\n",
    "        if isinstance(node, str):  # Terminal node\n",
    "            return [node]\n",
    "        else:\n",
    "            children = [traverse(child) for child in node]\n",
    "            non_terminal = node.label()\n",
    "            if non_terminal not in cfg:\n",
    "                cfg[non_terminal] = []\n",
    "            cfg[non_terminal].extend(children)\n",
    "            return [non_terminal]\n",
    "\n",
    "    traverse(tree)\n",
    "    return cfg\n",
    "\n",
    "# Parse tree in the string format\n",
    "parse_tree_str = str(CorenlpGrammarTree)\n",
    "\n",
    "# Convert string to nltk.Tree object\n",
    "parse_tree = nltk.Tree.fromstring(parse_tree_str)\n",
    "\n",
    "# Convert the parse tree to CFG\n",
    "cfg = tree_to_cfg(parse_tree)\n",
    "\n",
    "# Print the CFG rules\n",
    "for non_terminal, expansions in cfg.items():\n",
    "    print(non_terminal + \" -> \" + \" | \".join([\" \".join(expansion) for expansion in expansions]))"
   ]
  }
 ],
 "metadata": {
  "kernelspec": {
   "display_name": "Python 3",
   "language": "python",
   "name": "python3"
  },
  "language_info": {
   "codemirror_mode": {
    "name": "ipython",
    "version": 3
   },
   "file_extension": ".py",
   "mimetype": "text/x-python",
   "name": "python",
   "nbconvert_exporter": "python",
   "pygments_lexer": "ipython3",
   "version": "3.10.12"
  }
 },
 "nbformat": 4,
 "nbformat_minor": 2
}
