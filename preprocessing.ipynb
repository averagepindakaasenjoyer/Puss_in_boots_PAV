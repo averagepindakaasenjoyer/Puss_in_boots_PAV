with open('test.txt') as script:
    print(script.readlines())
