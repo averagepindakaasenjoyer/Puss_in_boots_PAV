{
 "cells": [
  {
   "cell_type": "code",
   "execution_count": 2,
   "metadata": {},
   "outputs": [],
   "source": [
    "with open('script.txt') as script:\n",
    "    lines = script.readlines()\n",
    "\n",
    "sentences = []\n",
    "\n",
    "for line in lines:\n",
    "    for ch in line:\n",
    "        if ch != 'I':\n",
    "            ch.lower()\n",
    "    blud = line.replace('...', '')\n",
    "    sentences.append(blud.replace('\\n', ''))\n",
    "sentences"
   ]
  }
 ],
 "metadata": {
  "kernelspec": {
   "display_name": "Python 3",
   "language": "python",
   "name": "python3"
  },
  "language_info": {
   "codemirror_mode": {
    "name": "ipython",
    "version": 3
   },
   "file_extension": ".py",
   "mimetype": "text/x-python",
   "name": "python",
   "nbconvert_exporter": "python",
   "pygments_lexer": "ipython3",
   "version": "3.10.12"
  }
 },
 "nbformat": 4,
 "nbformat_minor": 2
}
